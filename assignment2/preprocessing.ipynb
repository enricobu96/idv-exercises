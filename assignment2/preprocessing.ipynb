{
 "cells": [
  {
   "cell_type": "code",
   "execution_count": 16,
   "metadata": {},
   "outputs": [],
   "source": [
    "import pandas as pd\n",
    "import numpy as np\n",
    "\n",
    "df = pd.read_excel('americancommunity.xlsx')\n",
    "df = df.replace(['?'], np.nan)\n",
    "\n",
    "df['Work class'] = df['Work class'].fillna(df['Work class'].mode()[0])\n",
    "df['Marital status'] = df['Marital status'].fillna(df['Marital status'].mode()[0])\n",
    "df['Occupation'] = df['Occupation'].fillna(df['Occupation'].mode()[0])\n",
    "df['Relationship'] = df['Relationship'].fillna(df['Relationship'].mode()[0])\n",
    "df['Race'] = df['Race'].fillna(df['Race'].mode()[0])\n",
    "df['Native country'] = df['Native country'].fillna(df['Native country'].mode()[0])\n",
    "\n",
    "df.to_excel('results.xlsx', index=False)"
   ]
  }
 ],
 "metadata": {
  "interpreter": {
   "hash": "e7370f93d1d0cde622a1f8e1c04877d8463912d04d973331ad4851f04de6915a"
  },
  "kernelspec": {
   "display_name": "Python 3.10.2 64-bit",
   "language": "python",
   "name": "python3"
  },
  "language_info": {
   "codemirror_mode": {
    "name": "ipython",
    "version": 3
   },
   "file_extension": ".py",
   "mimetype": "text/x-python",
   "name": "python",
   "nbconvert_exporter": "python",
   "pygments_lexer": "ipython3",
   "version": "3.10.2"
  },
  "orig_nbformat": 4
 },
 "nbformat": 4,
 "nbformat_minor": 2
}
