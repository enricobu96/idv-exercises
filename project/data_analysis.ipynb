{
 "cells": [
  {
   "cell_type": "code",
   "execution_count": 33,
   "metadata": {},
   "outputs": [
    {
     "name": "stdout",
     "output_type": "stream",
     "text": [
      "Number of columns = 17470\n"
     ]
    }
   ],
   "source": [
    "import pandas as pd\n",
    "import warnings\n",
    "warnings.filterwarnings('ignore')\n",
    "\n",
    "data = pd.read_csv('data/owid-energy-data.csv', sep=',')\n",
    "data\n",
    "\n",
    "df = data[['country', 'year', 'population', 'gdp', 'biofuel_consumption', 'coal_consumption', 'gas_consumption', 'nuclear_consumption', 'oil_consumption', 'other_renewable_consumption', 'hydro_consumption', 'wind_consumption', 'solar_consumption', 'renewables_consumption', 'primary_energy_consumption', 'fossil_fuel_consumption', 'electricity_generation', 'biofuel_electricity', 'coal_electricity', 'gas_electricity', 'nuclear_electricity', 'oil_electricity', 'other_renewable_electricity', 'hydro_electricity', 'wind_electricity', 'solar_electricity', 'renewables_electricity', 'fossil_electricity', 'other_renewable_exc_biofuel_electricity']]\n",
    "\n",
    "\n",
    "print('Number of columns =', df.shape[0])\n",
    "\n",
    "missing_values = ['population', 'gdp', 'biofuel_consumption', 'coal_consumption', 'gas_consumption', 'nuclear_consumption', 'oil_consumption', 'other_renewable_consumption', 'hydro_consumption', 'wind_consumption', 'solar_consumption', 'renewables_consumption', 'primary_energy_consumption', 'fossil_fuel_consumption', 'electricity_generation', 'biofuel_electricity', 'coal_electricity', 'gas_electricity', 'nuclear_electricity', 'oil_electricity', 'other_renewable_electricity', 'hydro_electricity', 'wind_electricity', 'solar_electricity', 'renewables_electricity', 'fossil_electricity', 'other_renewable_exc_biofuel_electricity']\n",
    "# df[df['country']=='Afghanistan']['population'].mean()\n",
    "for country in df.country.unique():\n",
    "    for m in missing_values:\n",
    "        df[m] = df[m].fillna(df[df['country']==country][m].median())\n",
    "\n",
    "df.to_excel('step3.xlsx', index=False)"
   ]
  }
 ],
 "metadata": {
  "interpreter": {
   "hash": "e7370f93d1d0cde622a1f8e1c04877d8463912d04d973331ad4851f04de6915a"
  },
  "kernelspec": {
   "display_name": "Python 3.10.3 64-bit",
   "language": "python",
   "name": "python3"
  },
  "language_info": {
   "codemirror_mode": {
    "name": "ipython",
    "version": 3
   },
   "file_extension": ".py",
   "mimetype": "text/x-python",
   "name": "python",
   "nbconvert_exporter": "python",
   "pygments_lexer": "ipython3",
   "version": "3.10.4"
  },
  "orig_nbformat": 4
 },
 "nbformat": 4,
 "nbformat_minor": 2
}
