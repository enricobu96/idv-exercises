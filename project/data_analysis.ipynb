{
 "cells": [
  {
   "cell_type": "code",
   "execution_count": 9,
   "metadata": {},
   "outputs": [
    {
     "data": {
      "text/plain": [
       "7012"
      ]
     },
     "execution_count": 9,
     "metadata": {},
     "output_type": "execute_result"
    }
   ],
   "source": [
    "import pandas as pd\n",
    "\n",
    "data = pd.read_csv('data/owid-energy-data.csv', sep=',')\n",
    "data\n",
    "\n",
    "df = data[['country', 'year', 'population', 'gdp', 'biofuel_consumption', 'coal_consumption', 'gas_consumption', 'nuclear_consumption', 'oil_consumption', 'other_renewable_consumption', 'hydro_consumption', 'wind_consumption', 'solar_consumption', 'renewables_consumption', 'primary_energy_consumption', 'fossil_fuel_consumption', 'electricity_generation', 'biofuel_electricity', 'coal_electricity', 'gas_electricity', 'nuclear_electricity', 'oil_electricity', 'other_renewable_electricity', 'hydro_electricity', 'wind_electricity', 'solar_electricity', 'renewables_electricity', 'fossil_electricity', 'other_renewable_exc_biofuel_electricity']]\n",
    "\n",
    "df['gdp'].isna().sum()"
   ]
  }
 ],
 "metadata": {
  "interpreter": {
   "hash": "e7370f93d1d0cde622a1f8e1c04877d8463912d04d973331ad4851f04de6915a"
  },
  "kernelspec": {
   "display_name": "Python 3.10.3 64-bit",
   "language": "python",
   "name": "python3"
  },
  "language_info": {
   "codemirror_mode": {
    "name": "ipython",
    "version": 3
   },
   "file_extension": ".py",
   "mimetype": "text/x-python",
   "name": "python",
   "nbconvert_exporter": "python",
   "pygments_lexer": "ipython3",
   "version": "3.10.4"
  },
  "orig_nbformat": 4
 },
 "nbformat": 4,
 "nbformat_minor": 2
}
